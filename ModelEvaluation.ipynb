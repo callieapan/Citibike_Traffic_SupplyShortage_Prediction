{
 "cells": [
  {
   "cell_type": "markdown",
   "metadata": {},
   "source": [
    "Compare results between logistic regression and decision tree classifier"
   ]
  },
  {
   "cell_type": "code",
   "execution_count": 1,
   "metadata": {},
   "outputs": [],
   "source": [
    "import pandas as pd\n",
    "import numpy as np\n",
    "import matplotlib.pyplot as plt\n",
    "from datetime import datetime\n",
    "%matplotlib inline"
   ]
  },
  {
   "cell_type": "code",
   "execution_count": 27,
   "metadata": {},
   "outputs": [],
   "source": [
    "result8_1Xtrain=pd.read_csv(\"result8_1Xtrain.csv\", index_col=0) \n",
    "result8_1Xtest=pd.read_csv(\"result8_1Xtest.csv\", index_col=0) \n",
    "test8_1=pd.read_csv(\"result8_1Ytrain.csv\", index_col=0, header=None)\n",
    "test8_12=pd.read_csv(\"result8_1Ytest.csv\", index_col=0, header=None)\n",
    "\n",
    "result8_1Ytrain = test8_1[1]\n",
    "result8_1Ytest = test8_12[1]\n",
    "\n",
    "result8_2Xtrain=pd.read_csv(\"result8_2Xtrain.csv\", index_col=0) \n",
    "result8_2Xtest=pd.read_csv(\"result8_2Xtest.csv\", index_col=0) \n",
    "test8_2=pd.read_csv(\"result8_2Ytrain.csv\", index_col=0, header=None)\n",
    "test8_22=pd.read_csv(\"result8_2Ytest.csv\", index_col=0, header=None)\n",
    "\n",
    "result8_2Ytrain = test8_2[1]\n",
    "result8_2Ytest = test8_22[1]\n",
    "\n",
    "result8_3Xtrain=pd.read_csv(\"result8_3Xtrain.csv\", index_col=0) \n",
    "result8_3Xtest=pd.read_csv(\"result8_3Xtest.csv\", index_col=0) \n",
    "test8_3=pd.read_csv(\"result8_3Ytrain.csv\", index_col=0, header=None)\n",
    "test8_32=pd.read_csv(\"result8_3Ytest.csv\", index_col=0, header=None)\n",
    "\n",
    "result8_3Ytrain = test8_3[1]\n",
    "result8_3Ytest = test8_32[1]\n"
   ]
  },
  {
   "cell_type": "code",
   "execution_count": 78,
   "metadata": {},
   "outputs": [],
   "source": [
    "from sklearn.model_selection import train_test_split\n",
    "from sklearn.linear_model import LogisticRegression\n",
    "# logreg = LogisticRegression()\n",
    "# logreg.fit(result8_1Xtrain, result8_1Ytrain)\n",
    "from sklearn.tree import DecisionTreeClassifier\n",
    "# dt = DecisionTreeClassifier(criterion = 'entropy')\n",
    "# dt.fit(result8Xtrain, result8Ytrain)\n",
    "from sklearn.metrics import roc_curve, auc\n",
    "from sklearn.metrics import accuracy_score\n",
    "from sklearn.metrics import f1_score"
   ]
  },
  {
   "cell_type": "code",
   "execution_count": 42,
   "metadata": {},
   "outputs": [],
   "source": [
    "def getTP_actY (trueYarr, predYarr):\n",
    "    testDict ={\"trueY\": trueYarr, \"predY\":predYarr}\n",
    "    testpd = pd.DataFrame(testDict)\n",
    "    \n",
    "    apd = testpd[testpd.trueY==1].sum(axis=0)\n",
    "    tp = apd[1]\n",
    "    actY = apd[0]\n",
    "    return tp, actY \n",
    "\n",
    "def getFP_actYN (trueYarr, predYarr):\n",
    "    testDict ={\"trueY\": trueYarr, \"predY\":predYarr}\n",
    "    testpd = pd.DataFrame(testDict)\n",
    "    \n",
    "    apd = testpd[testpd.trueY==0].sum(axis=0)\n",
    "    fp = apd[1]\n",
    "    actYN = len(testpd[testpd.trueY==0])\n",
    "    return fp, actYN "
   ]
  },
  {
   "cell_type": "code",
   "execution_count": 44,
   "metadata": {},
   "outputs": [],
   "source": [
    "logreg = LogisticRegression()\n",
    "logreg.fit(result8_1Xtrain, result8_1Ytrain)\n",
    "pred1 = logreg.predict(result8_1Xtest)\n",
    "\n",
    "tp, actY = getTP_actY(result8_1Ytest, pred1)\n",
    "fp, actYN = getFP_actYN(result8_1Ytest, pred1)"
   ]
  },
  {
   "cell_type": "code",
   "execution_count": 48,
   "metadata": {},
   "outputs": [
    {
     "name": "stdout",
     "output_type": "stream",
     "text": [
      "tp 0, fp 0, actY 222, actYN 88098\n"
     ]
    }
   ],
   "source": [
    "print(\"tp {}, fp {}, actY {}, actYN {}\".format(tp, fp, actY, actYN))"
   ]
  },
  {
   "cell_type": "code",
   "execution_count": 50,
   "metadata": {},
   "outputs": [],
   "source": [
    "logreg = LogisticRegression()\n",
    "logreg.fit(result8_2Xtrain, result8_2Ytrain)\n",
    "pred2 = logreg.predict(result8_2Xtest)\n",
    "\n",
    "tp, actY = getTP_actY(result8_2Ytest, pred2)\n",
    "fp, actYN = getFP_actYN(result8_2Ytest, pred2)"
   ]
  },
  {
   "cell_type": "code",
   "execution_count": 51,
   "metadata": {},
   "outputs": [
    {
     "name": "stdout",
     "output_type": "stream",
     "text": [
      "tp 0, fp 0, actY 204, actYN 88116\n"
     ]
    }
   ],
   "source": [
    "print(\"tp {}, fp {}, actY {}, actYN {}\".format(tp, fp, actY, actYN))"
   ]
  },
  {
   "cell_type": "code",
   "execution_count": 52,
   "metadata": {},
   "outputs": [],
   "source": [
    "logreg.fit(result8_3Xtrain, result8_3Ytrain)\n",
    "pred3 = logreg.predict(result8_3Xtest)\n",
    "\n",
    "tp, actY = getTP_actY(result8_3Ytest, pred3)\n",
    "fp, actYN = getFP_actYN(result8_3Ytest, pred3)"
   ]
  },
  {
   "cell_type": "code",
   "execution_count": 53,
   "metadata": {},
   "outputs": [
    {
     "name": "stdout",
     "output_type": "stream",
     "text": [
      "tp 0, fp 0, actY 204, actYN 88116\n"
     ]
    }
   ],
   "source": [
    "print(\"tp {}, fp {}, actY {}, actYN {}\".format(tp, fp, actY, actYN))"
   ]
  },
  {
   "cell_type": "code",
   "execution_count": 64,
   "metadata": {},
   "outputs": [],
   "source": [
    "dt = DecisionTreeClassifier(criterion = 'entropy')\n",
    "dt.fit(result8_1Xtrain, result8_1Ytrain)\n",
    "pred_test = dt.predict(result8_1Xtest)\n",
    "\n",
    "tp, actY = getTP_actY(result8_1Ytest, pred_test)\n",
    "fp, actYN = getFP_actYN(result8_1Ytest, pred_test)"
   ]
  },
  {
   "cell_type": "code",
   "execution_count": 65,
   "metadata": {},
   "outputs": [
    {
     "name": "stdout",
     "output_type": "stream",
     "text": [
      "tp 2, fp 263, actY 222, actYN 88098\n"
     ]
    }
   ],
   "source": [
    "print(\"tp {}, fp {}, actY {}, actYN {}\".format(tp, fp, actY, actYN))"
   ]
  },
  {
   "cell_type": "code",
   "execution_count": 66,
   "metadata": {},
   "outputs": [],
   "source": [
    "dt.fit(result8_2Xtrain, result8_2Ytrain)\n",
    "pred_test = dt.predict(result8_2Xtest)\n",
    "\n",
    "tp, actY = getTP_actY(result8_2Ytest, pred_test)\n",
    "fp, actYN = getFP_actYN(result8_2Ytest, pred_test)"
   ]
  },
  {
   "cell_type": "code",
   "execution_count": 67,
   "metadata": {},
   "outputs": [
    {
     "name": "stdout",
     "output_type": "stream",
     "text": [
      "tp 6, fp 217, actY 204, actYN 88116\n"
     ]
    }
   ],
   "source": [
    "print(\"tp {}, fp {}, actY {}, actYN {}\".format(tp, fp, actY, actYN))`"
   ]
  },
  {
   "cell_type": "code",
   "execution_count": 68,
   "metadata": {},
   "outputs": [],
   "source": [
    "dt.fit(result8_3Xtrain, result8_3Ytrain)\n",
    "pred_test = dt.predict(result8_3Xtest)\n",
    "\n",
    "tp, actY = getTP_actY(result8_3Ytest, pred_test)\n",
    "fp, actYN = getFP_actYN(result8_3Ytest, pred_test)"
   ]
  },
  {
   "cell_type": "code",
   "execution_count": 69,
   "metadata": {},
   "outputs": [
    {
     "name": "stdout",
     "output_type": "stream",
     "text": [
      "tp 9, fp 202, actY 204, actYN 88116\n"
     ]
    }
   ],
   "source": [
    "print(\"tp {}, fp {}, actY {}, actYN {}\".format(tp, fp, actY, actYN))"
   ]
  },
  {
   "cell_type": "code",
   "execution_count": 149,
   "metadata": {},
   "outputs": [
    {
     "data": {
      "text/plain": [
       "88320"
      ]
     },
     "execution_count": 149,
     "metadata": {},
     "output_type": "execute_result"
    }
   ],
   "source": [
    "len(result8_1Xtest)"
   ]
  },
  {
   "cell_type": "code",
   "execution_count": 73,
   "metadata": {},
   "outputs": [
    {
     "name": "stderr",
     "output_type": "stream",
     "text": [
      "/anaconda3/lib/python3.6/site-packages/numpy/lib/arraysetops.py:472: FutureWarning: elementwise comparison failed; returning scalar instead, but in the future will perform elementwise comparison\n",
      "  mask |= (ar1 == a)\n"
     ]
    }
   ],
   "source": [
    "#read in result8\n",
    "result8 = pd.read_csv(\"result8.csv\", index_col=0)"
   ]
  },
  {
   "cell_type": "code",
   "execution_count": 76,
   "metadata": {},
   "outputs": [
    {
     "data": {
      "text/html": [
       "<div>\n",
       "<style scoped>\n",
       "    .dataframe tbody tr th:only-of-type {\n",
       "        vertical-align: middle;\n",
       "    }\n",
       "\n",
       "    .dataframe tbody tr th {\n",
       "        vertical-align: top;\n",
       "    }\n",
       "\n",
       "    .dataframe thead th {\n",
       "        text-align: right;\n",
       "    }\n",
       "</style>\n",
       "<table border=\"1\" class=\"dataframe\">\n",
       "  <thead>\n",
       "    <tr style=\"text-align: right;\">\n",
       "      <th></th>\n",
       "      <th>stationID</th>\n",
       "      <th>Variance</th>\n",
       "      <th>capacity</th>\n",
       "      <th>Precip_Amt_bucketed</th>\n",
       "      <th>Temp C</th>\n",
       "      <th>dayOfWeek</th>\n",
       "      <th>timeBucket</th>\n",
       "      <th>hour</th>\n",
       "      <th>Y</th>\n",
       "      <th>bal_encode1</th>\n",
       "      <th>...</th>\n",
       "      <th>hood_encode70</th>\n",
       "      <th>hood_encode71</th>\n",
       "      <th>hood_encode72</th>\n",
       "      <th>hood_encode73</th>\n",
       "      <th>hood_encode74</th>\n",
       "      <th>hood_encode75</th>\n",
       "      <th>hood_encode76</th>\n",
       "      <th>hood_encode77</th>\n",
       "      <th>hood_encode78</th>\n",
       "      <th>hood_encode79</th>\n",
       "    </tr>\n",
       "  </thead>\n",
       "  <tbody>\n",
       "    <tr>\n",
       "      <th>6544507</th>\n",
       "      <td>2023</td>\n",
       "      <td>2.532256</td>\n",
       "      <td>36</td>\n",
       "      <td>0</td>\n",
       "      <td>17.8</td>\n",
       "      <td>0</td>\n",
       "      <td>11</td>\n",
       "      <td>2</td>\n",
       "      <td>0</td>\n",
       "      <td>0</td>\n",
       "      <td>...</td>\n",
       "      <td>0</td>\n",
       "      <td>0</td>\n",
       "      <td>0</td>\n",
       "      <td>0</td>\n",
       "      <td>0</td>\n",
       "      <td>0</td>\n",
       "      <td>0</td>\n",
       "      <td>0</td>\n",
       "      <td>0</td>\n",
       "      <td>0</td>\n",
       "    </tr>\n",
       "    <tr>\n",
       "      <th>6544508</th>\n",
       "      <td>2023</td>\n",
       "      <td>2.532256</td>\n",
       "      <td>36</td>\n",
       "      <td>0</td>\n",
       "      <td>17.8</td>\n",
       "      <td>0</td>\n",
       "      <td>12</td>\n",
       "      <td>3</td>\n",
       "      <td>0</td>\n",
       "      <td>0</td>\n",
       "      <td>...</td>\n",
       "      <td>0</td>\n",
       "      <td>0</td>\n",
       "      <td>0</td>\n",
       "      <td>0</td>\n",
       "      <td>0</td>\n",
       "      <td>0</td>\n",
       "      <td>0</td>\n",
       "      <td>0</td>\n",
       "      <td>0</td>\n",
       "      <td>0</td>\n",
       "    </tr>\n",
       "    <tr>\n",
       "      <th>6544509</th>\n",
       "      <td>2023</td>\n",
       "      <td>2.532256</td>\n",
       "      <td>36</td>\n",
       "      <td>0</td>\n",
       "      <td>17.8</td>\n",
       "      <td>0</td>\n",
       "      <td>13</td>\n",
       "      <td>3</td>\n",
       "      <td>0</td>\n",
       "      <td>0</td>\n",
       "      <td>...</td>\n",
       "      <td>0</td>\n",
       "      <td>0</td>\n",
       "      <td>0</td>\n",
       "      <td>0</td>\n",
       "      <td>0</td>\n",
       "      <td>0</td>\n",
       "      <td>0</td>\n",
       "      <td>0</td>\n",
       "      <td>0</td>\n",
       "      <td>0</td>\n",
       "    </tr>\n",
       "    <tr>\n",
       "      <th>6544510</th>\n",
       "      <td>2023</td>\n",
       "      <td>2.532256</td>\n",
       "      <td>36</td>\n",
       "      <td>0</td>\n",
       "      <td>17.8</td>\n",
       "      <td>0</td>\n",
       "      <td>14</td>\n",
       "      <td>3</td>\n",
       "      <td>0</td>\n",
       "      <td>0</td>\n",
       "      <td>...</td>\n",
       "      <td>0</td>\n",
       "      <td>0</td>\n",
       "      <td>0</td>\n",
       "      <td>0</td>\n",
       "      <td>0</td>\n",
       "      <td>0</td>\n",
       "      <td>0</td>\n",
       "      <td>0</td>\n",
       "      <td>0</td>\n",
       "      <td>0</td>\n",
       "    </tr>\n",
       "    <tr>\n",
       "      <th>6544511</th>\n",
       "      <td>2023</td>\n",
       "      <td>2.532256</td>\n",
       "      <td>36</td>\n",
       "      <td>0</td>\n",
       "      <td>17.8</td>\n",
       "      <td>0</td>\n",
       "      <td>15</td>\n",
       "      <td>3</td>\n",
       "      <td>0</td>\n",
       "      <td>0</td>\n",
       "      <td>...</td>\n",
       "      <td>0</td>\n",
       "      <td>0</td>\n",
       "      <td>0</td>\n",
       "      <td>0</td>\n",
       "      <td>0</td>\n",
       "      <td>0</td>\n",
       "      <td>0</td>\n",
       "      <td>0</td>\n",
       "      <td>0</td>\n",
       "      <td>0</td>\n",
       "    </tr>\n",
       "  </tbody>\n",
       "</table>\n",
       "<p>5 rows × 91 columns</p>\n",
       "</div>"
      ],
      "text/plain": [
       "         stationID  Variance  capacity  Precip_Amt_bucketed  Temp C  \\\n",
       "6544507       2023  2.532256        36                    0    17.8   \n",
       "6544508       2023  2.532256        36                    0    17.8   \n",
       "6544509       2023  2.532256        36                    0    17.8   \n",
       "6544510       2023  2.532256        36                    0    17.8   \n",
       "6544511       2023  2.532256        36                    0    17.8   \n",
       "\n",
       "         dayOfWeek  timeBucket  hour  Y  bal_encode1      ...        \\\n",
       "6544507          0          11     2  0            0      ...         \n",
       "6544508          0          12     3  0            0      ...         \n",
       "6544509          0          13     3  0            0      ...         \n",
       "6544510          0          14     3  0            0      ...         \n",
       "6544511          0          15     3  0            0      ...         \n",
       "\n",
       "         hood_encode70  hood_encode71  hood_encode72  hood_encode73  \\\n",
       "6544507              0              0              0              0   \n",
       "6544508              0              0              0              0   \n",
       "6544509              0              0              0              0   \n",
       "6544510              0              0              0              0   \n",
       "6544511              0              0              0              0   \n",
       "\n",
       "         hood_encode74  hood_encode75  hood_encode76  hood_encode77  \\\n",
       "6544507              0              0              0              0   \n",
       "6544508              0              0              0              0   \n",
       "6544509              0              0              0              0   \n",
       "6544510              0              0              0              0   \n",
       "6544511              0              0              0              0   \n",
       "\n",
       "         hood_encode78  hood_encode79  \n",
       "6544507              0              0  \n",
       "6544508              0              0  \n",
       "6544509              0              0  \n",
       "6544510              0              0  \n",
       "6544511              0              0  \n",
       "\n",
       "[5 rows x 91 columns]"
      ]
     },
     "execution_count": 76,
     "metadata": {},
     "output_type": "execute_result"
    }
   ],
   "source": [
    "result8.tail()"
   ]
  },
  {
   "cell_type": "code",
   "execution_count": 77,
   "metadata": {},
   "outputs": [
    {
     "data": {
      "text/plain": [
       "Index(['stationID', 'Variance', 'capacity', 'Precip_Amt_bucketed', 'Temp C',\n",
       "       'dayOfWeek', 'timeBucket', 'hour', 'Y', 'bal_encode1', 'bal_encode2',\n",
       "       'bal_encode3', 'hood_encode1', 'hood_encode2', 'hood_encode3',\n",
       "       'hood_encode4', 'hood_encode5', 'hood_encode6', 'hood_encode7',\n",
       "       'hood_encode8', 'hood_encode9', 'hood_encode10', 'hood_encode11',\n",
       "       'hood_encode12', 'hood_encode13', 'hood_encode14', 'hood_encode15',\n",
       "       'hood_encode16', 'hood_encode17', 'hood_encode18', 'hood_encode19',\n",
       "       'hood_encode20', 'hood_encode21', 'hood_encode22', 'hood_encode23',\n",
       "       'hood_encode24', 'hood_encode25', 'hood_encode26', 'hood_encode27',\n",
       "       'hood_encode28', 'hood_encode29', 'hood_encode30', 'hood_encode31',\n",
       "       'hood_encode32', 'hood_encode33', 'hood_encode34', 'hood_encode35',\n",
       "       'hood_encode36', 'hood_encode37', 'hood_encode38', 'hood_encode39',\n",
       "       'hood_encode40', 'hood_encode41', 'hood_encode42', 'hood_encode43',\n",
       "       'hood_encode44', 'hood_encode45', 'hood_encode46', 'hood_encode47',\n",
       "       'hood_encode48', 'hood_encode49', 'hood_encode50', 'hood_encode51',\n",
       "       'hood_encode52', 'hood_encode53', 'hood_encode54', 'hood_encode55',\n",
       "       'hood_encode56', 'hood_encode57', 'hood_encode58', 'hood_encode59',\n",
       "       'hood_encode60', 'hood_encode61', 'hood_encode62', 'hood_encode63',\n",
       "       'hood_encode64', 'hood_encode65', 'hood_encode66', 'hood_encode67',\n",
       "       'hood_encode68', 'hood_encode69', 'hood_encode70', 'hood_encode71',\n",
       "       'hood_encode72', 'hood_encode73', 'hood_encode74', 'hood_encode75',\n",
       "       'hood_encode76', 'hood_encode77', 'hood_encode78', 'hood_encode79'],\n",
       "      dtype='object')"
      ]
     },
     "execution_count": 77,
     "metadata": {},
     "output_type": "execute_result"
    }
   ],
   "source": [
    "result8.columns"
   ]
  },
  {
   "cell_type": "code",
   "execution_count": 125,
   "metadata": {},
   "outputs": [],
   "source": [
    "#baseline rate algorithm\n",
    "#take the whole data set, when variance is > 80% of capacity, set buckets 34, 34, 35, 70, 71, 72, 73 as Y = 1\n",
    "#check values\n",
    "\n",
    "#riskTB = [34, 35, 36, 70, 71, 72, 73]\n",
    "\n",
    "result8[\"baselineY\"] = 0\n",
    "\n",
    "\n"
   ]
  },
  {
   "cell_type": "code",
   "execution_count": 84,
   "metadata": {},
   "outputs": [
    {
     "data": {
      "text/plain": [
       "0"
      ]
     },
     "execution_count": 84,
     "metadata": {},
     "output_type": "execute_result"
    }
   ],
   "source": [
    "result8.baselineY.sum()"
   ]
  },
  {
   "cell_type": "code",
   "execution_count": 109,
   "metadata": {},
   "outputs": [],
   "source": [
    "riskTB = [34, 35, 36, 70, 71, 72, 73]\n",
    "#riskTB = [34, 35, 36, 68, 69, 70, 71, 72, 73, 74, 75, 76]"
   ]
  },
  {
   "cell_type": "code",
   "execution_count": 122,
   "metadata": {},
   "outputs": [],
   "source": [
    "#ind = result8[(result8[\"Variance\"]>=0.2*result8[\"capacity\"])& (result8[\"timeBucket\"].isin(riskTB))].index\n",
    "ind = result8[(result8[\"timeBucket\"].isin(riskTB))].index"
   ]
  },
  {
   "cell_type": "code",
   "execution_count": 123,
   "metadata": {},
   "outputs": [
    {
     "data": {
      "text/plain": [
       "0.07291666666666667"
      ]
     },
     "execution_count": 123,
     "metadata": {},
     "output_type": "execute_result"
    }
   ],
   "source": [
    "len(ind)/len(result8)"
   ]
  },
  {
   "cell_type": "code",
   "execution_count": 126,
   "metadata": {},
   "outputs": [],
   "source": [
    "result8.loc[ind, [\"baselineY\"]]=1"
   ]
  },
  {
   "cell_type": "code",
   "execution_count": 127,
   "metadata": {},
   "outputs": [
    {
     "data": {
      "text/plain": [
       "469476"
      ]
     },
     "execution_count": 127,
     "metadata": {},
     "output_type": "execute_result"
    }
   ],
   "source": [
    "result8.baselineY.sum()"
   ]
  },
  {
   "cell_type": "code",
   "execution_count": 128,
   "metadata": {},
   "outputs": [
    {
     "name": "stdout",
     "output_type": "stream",
     "text": [
      "tp 2226, fp 467250, actY 15592, actYN 6422936\n"
     ]
    }
   ],
   "source": [
    "tp, actY = getTP_actY(result8.Y, result8.baselineY)\n",
    "fp, actYN = getFP_actYN(result8.Y, result8.baselineY)\n",
    "print(\"tp {}, fp {}, actY {}, actYN {}\".format(tp, fp, actY, actYN))"
   ]
  },
  {
   "cell_type": "code",
   "execution_count": 129,
   "metadata": {},
   "outputs": [
    {
     "data": {
      "text/plain": [
       "6438528"
      ]
     },
     "execution_count": 129,
     "metadata": {},
     "output_type": "execute_result"
    }
   ],
   "source": [
    "len(result8)"
   ]
  },
  {
   "cell_type": "code",
   "execution_count": 130,
   "metadata": {},
   "outputs": [
    {
     "data": {
      "text/plain": [
       "15592"
      ]
     },
     "execution_count": 130,
     "metadata": {},
     "output_type": "execute_result"
    }
   ],
   "source": [
    "result8.Y.sum()"
   ]
  },
  {
   "cell_type": "code",
   "execution_count": 133,
   "metadata": {},
   "outputs": [
    {
     "data": {
      "text/plain": [
       "33"
      ]
     },
     "execution_count": 133,
     "metadata": {},
     "output_type": "execute_result"
    }
   ],
   "source": [
    "dt.tree_.max_depth"
   ]
  },
  {
   "cell_type": "code",
   "execution_count": 135,
   "metadata": {},
   "outputs": [
    {
     "data": {
      "text/plain": [
       "353280"
      ]
     },
     "execution_count": 135,
     "metadata": {},
     "output_type": "execute_result"
    }
   ],
   "source": [
    "max(dt.tree_.n_node_samples)"
   ]
  },
  {
   "cell_type": "code",
   "execution_count": 136,
   "metadata": {},
   "outputs": [
    {
     "data": {
      "text/plain": [
       "1"
      ]
     },
     "execution_count": 136,
     "metadata": {},
     "output_type": "execute_result"
    }
   ],
   "source": [
    "min(dt.tree_.n_node_samples)"
   ]
  },
  {
   "cell_type": "code",
   "execution_count": 137,
   "metadata": {},
   "outputs": [
    {
     "name": "stderr",
     "output_type": "stream",
     "text": [
      "/anaconda3/lib/python3.6/site-packages/numpy/lib/arraysetops.py:472: FutureWarning: elementwise comparison failed; returning scalar instead, but in the future will perform elementwise comparison\n",
      "  mask |= (ar1 == a)\n"
     ]
    }
   ],
   "source": [
    "resultPE = pd.read_csv(\"new_result_kae_0.8.csv\", index_col=0)"
   ]
  },
  {
   "cell_type": "code",
   "execution_count": 138,
   "metadata": {},
   "outputs": [
    {
     "data": {
      "text/plain": [
       "6438528"
      ]
     },
     "execution_count": 138,
     "metadata": {},
     "output_type": "execute_result"
    }
   ],
   "source": [
    "len(resultPE)"
   ]
  },
  {
   "cell_type": "code",
   "execution_count": 139,
   "metadata": {},
   "outputs": [
    {
     "data": {
      "text/html": [
       "<div>\n",
       "<style scoped>\n",
       "    .dataframe tbody tr th:only-of-type {\n",
       "        vertical-align: middle;\n",
       "    }\n",
       "\n",
       "    .dataframe tbody tr th {\n",
       "        vertical-align: top;\n",
       "    }\n",
       "\n",
       "    .dataframe thead th {\n",
       "        text-align: right;\n",
       "    }\n",
       "</style>\n",
       "<table border=\"1\" class=\"dataframe\">\n",
       "  <thead>\n",
       "    <tr style=\"text-align: right;\">\n",
       "      <th></th>\n",
       "      <th>Unnamed: 0.1</th>\n",
       "      <th>BalanceCat</th>\n",
       "      <th>CumSumDelta</th>\n",
       "      <th>Date</th>\n",
       "      <th>Precip_Amt_bucketed</th>\n",
       "      <th>Temp C</th>\n",
       "      <th>Variance</th>\n",
       "      <th>Y</th>\n",
       "      <th>capFlag</th>\n",
       "      <th>capacity</th>\n",
       "      <th>...</th>\n",
       "      <th>neighborhood</th>\n",
       "      <th>netFlow</th>\n",
       "      <th>nextNotHigher</th>\n",
       "      <th>previousHigher</th>\n",
       "      <th>startCount</th>\n",
       "      <th>stationID</th>\n",
       "      <th>stopCount</th>\n",
       "      <th>timeBucket</th>\n",
       "      <th>DateStr</th>\n",
       "      <th>cumNetFlowActual</th>\n",
       "    </tr>\n",
       "  </thead>\n",
       "  <tbody>\n",
       "    <tr>\n",
       "      <th>0</th>\n",
       "      <td>0</td>\n",
       "      <td>neutral</td>\n",
       "      <td>121</td>\n",
       "      <td>2018-07-01</td>\n",
       "      <td>0</td>\n",
       "      <td>28.9</td>\n",
       "      <td>3.493208</td>\n",
       "      <td>0</td>\n",
       "      <td>0.0</td>\n",
       "      <td>39</td>\n",
       "      <td>...</td>\n",
       "      <td>Hell's Kitchen</td>\n",
       "      <td>1.0</td>\n",
       "      <td>True</td>\n",
       "      <td>False</td>\n",
       "      <td>0.0</td>\n",
       "      <td>72</td>\n",
       "      <td>1.0</td>\n",
       "      <td>16</td>\n",
       "      <td>2018-07-01</td>\n",
       "      <td>1.0</td>\n",
       "    </tr>\n",
       "    <tr>\n",
       "      <th>1</th>\n",
       "      <td>1</td>\n",
       "      <td>neutral</td>\n",
       "      <td>121</td>\n",
       "      <td>2018-07-01</td>\n",
       "      <td>0</td>\n",
       "      <td>28.9</td>\n",
       "      <td>3.493208</td>\n",
       "      <td>0</td>\n",
       "      <td>0.0</td>\n",
       "      <td>39</td>\n",
       "      <td>...</td>\n",
       "      <td>Hell's Kitchen</td>\n",
       "      <td>0.0</td>\n",
       "      <td>True</td>\n",
       "      <td>False</td>\n",
       "      <td>0.0</td>\n",
       "      <td>72</td>\n",
       "      <td>0.0</td>\n",
       "      <td>17</td>\n",
       "      <td>2018-07-01</td>\n",
       "      <td>1.0</td>\n",
       "    </tr>\n",
       "    <tr>\n",
       "      <th>2</th>\n",
       "      <td>2</td>\n",
       "      <td>neutral</td>\n",
       "      <td>121</td>\n",
       "      <td>2018-07-01</td>\n",
       "      <td>0</td>\n",
       "      <td>28.9</td>\n",
       "      <td>3.493208</td>\n",
       "      <td>0</td>\n",
       "      <td>0.0</td>\n",
       "      <td>39</td>\n",
       "      <td>...</td>\n",
       "      <td>Hell's Kitchen</td>\n",
       "      <td>0.0</td>\n",
       "      <td>True</td>\n",
       "      <td>False</td>\n",
       "      <td>0.0</td>\n",
       "      <td>72</td>\n",
       "      <td>0.0</td>\n",
       "      <td>18</td>\n",
       "      <td>2018-07-01</td>\n",
       "      <td>1.0</td>\n",
       "    </tr>\n",
       "    <tr>\n",
       "      <th>3</th>\n",
       "      <td>3</td>\n",
       "      <td>neutral</td>\n",
       "      <td>121</td>\n",
       "      <td>2018-07-01</td>\n",
       "      <td>0</td>\n",
       "      <td>28.9</td>\n",
       "      <td>3.493208</td>\n",
       "      <td>0</td>\n",
       "      <td>0.0</td>\n",
       "      <td>39</td>\n",
       "      <td>...</td>\n",
       "      <td>Hell's Kitchen</td>\n",
       "      <td>0.0</td>\n",
       "      <td>True</td>\n",
       "      <td>False</td>\n",
       "      <td>0.0</td>\n",
       "      <td>72</td>\n",
       "      <td>0.0</td>\n",
       "      <td>19</td>\n",
       "      <td>2018-07-01</td>\n",
       "      <td>1.0</td>\n",
       "    </tr>\n",
       "    <tr>\n",
       "      <th>4</th>\n",
       "      <td>4</td>\n",
       "      <td>neutral</td>\n",
       "      <td>121</td>\n",
       "      <td>2018-07-01</td>\n",
       "      <td>0</td>\n",
       "      <td>28.3</td>\n",
       "      <td>3.493208</td>\n",
       "      <td>0</td>\n",
       "      <td>0.0</td>\n",
       "      <td>39</td>\n",
       "      <td>...</td>\n",
       "      <td>Hell's Kitchen</td>\n",
       "      <td>0.0</td>\n",
       "      <td>False</td>\n",
       "      <td>False</td>\n",
       "      <td>0.0</td>\n",
       "      <td>72</td>\n",
       "      <td>0.0</td>\n",
       "      <td>20</td>\n",
       "      <td>2018-07-01</td>\n",
       "      <td>1.0</td>\n",
       "    </tr>\n",
       "  </tbody>\n",
       "</table>\n",
       "<p>5 rows × 25 columns</p>\n",
       "</div>"
      ],
      "text/plain": [
       "   Unnamed: 0.1 BalanceCat  CumSumDelta        Date  Precip_Amt_bucketed  \\\n",
       "0             0    neutral          121  2018-07-01                    0   \n",
       "1             1    neutral          121  2018-07-01                    0   \n",
       "2             2    neutral          121  2018-07-01                    0   \n",
       "3             3    neutral          121  2018-07-01                    0   \n",
       "4             4    neutral          121  2018-07-01                    0   \n",
       "\n",
       "   Temp C  Variance  Y  capFlag  capacity        ...           neighborhood  \\\n",
       "0    28.9  3.493208  0      0.0        39        ...         Hell's Kitchen   \n",
       "1    28.9  3.493208  0      0.0        39        ...         Hell's Kitchen   \n",
       "2    28.9  3.493208  0      0.0        39        ...         Hell's Kitchen   \n",
       "3    28.9  3.493208  0      0.0        39        ...         Hell's Kitchen   \n",
       "4    28.3  3.493208  0      0.0        39        ...         Hell's Kitchen   \n",
       "\n",
       "   netFlow  nextNotHigher  previousHigher  startCount stationID  stopCount  \\\n",
       "0      1.0           True           False         0.0        72        1.0   \n",
       "1      0.0           True           False         0.0        72        0.0   \n",
       "2      0.0           True           False         0.0        72        0.0   \n",
       "3      0.0           True           False         0.0        72        0.0   \n",
       "4      0.0          False           False         0.0        72        0.0   \n",
       "\n",
       "   timeBucket     DateStr  cumNetFlowActual  \n",
       "0          16  2018-07-01               1.0  \n",
       "1          17  2018-07-01               1.0  \n",
       "2          18  2018-07-01               1.0  \n",
       "3          19  2018-07-01               1.0  \n",
       "4          20  2018-07-01               1.0  \n",
       "\n",
       "[5 rows x 25 columns]"
      ]
     },
     "execution_count": 139,
     "metadata": {},
     "output_type": "execute_result"
    }
   ],
   "source": [
    "resultPE"
   ]
  },
  {
   "cell_type": "code",
   "execution_count": 140,
   "metadata": {},
   "outputs": [],
   "source": [
    "ind2 = resultPE[(resultPE[\"timeBucket\"].isin(riskTB))].index"
   ]
  },
  {
   "cell_type": "code",
   "execution_count": 141,
   "metadata": {},
   "outputs": [
    {
     "data": {
      "text/plain": [
       "0.07291666666666667"
      ]
     },
     "execution_count": 141,
     "metadata": {},
     "output_type": "execute_result"
    }
   ],
   "source": [
    "len(ind2)/len(resultPE)"
   ]
  },
  {
   "cell_type": "code",
   "execution_count": 143,
   "metadata": {},
   "outputs": [],
   "source": [
    "resultPE[\"baselineY\"] = 0\n",
    "resultPE.loc[ind2, [\"baselineY\"]]=1"
   ]
  },
  {
   "cell_type": "code",
   "execution_count": 144,
   "metadata": {},
   "outputs": [
    {
     "data": {
      "text/plain": [
       "469476"
      ]
     },
     "execution_count": 144,
     "metadata": {},
     "output_type": "execute_result"
    }
   ],
   "source": [
    "resultPE.baselineY.sum()"
   ]
  },
  {
   "cell_type": "code",
   "execution_count": 145,
   "metadata": {},
   "outputs": [
    {
     "name": "stdout",
     "output_type": "stream",
     "text": [
      "tp 10293, fp 459183, actY 44936, actYN 6393592\n"
     ]
    }
   ],
   "source": [
    "tp, actY = getTP_actY(resultPE.Y, resultPE.baselineY)\n",
    "fp, actYN = getFP_actYN(resultPE.Y, resultPE.baselineY)\n",
    "print(\"tp {}, fp {}, actY {}, actYN {}\".format(tp, fp, actY, actYN))"
   ]
  },
  {
   "cell_type": "code",
   "execution_count": 151,
   "metadata": {},
   "outputs": [
    {
     "data": {
      "text/plain": [
       "array([  2. ,  26.5,  51. ,  75.5, 100. ])"
      ]
     },
     "execution_count": 151,
     "metadata": {},
     "output_type": "execute_result"
    }
   ],
   "source": [
    "np.linspace(2, 100, 5)"
   ]
  },
  {
   "cell_type": "code",
   "execution_count": null,
   "metadata": {},
   "outputs": [],
   "source": []
  }
 ],
 "metadata": {
  "kernelspec": {
   "display_name": "Python 3",
   "language": "python",
   "name": "python3"
  },
  "language_info": {
   "codemirror_mode": {
    "name": "ipython",
    "version": 3
   },
   "file_extension": ".py",
   "mimetype": "text/x-python",
   "name": "python",
   "nbconvert_exporter": "python",
   "pygments_lexer": "ipython3",
   "version": "3.6.5"
  }
 },
 "nbformat": 4,
 "nbformat_minor": 2
}
